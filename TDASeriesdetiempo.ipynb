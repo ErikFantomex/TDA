{
  "nbformat": 4,
  "nbformat_minor": 0,
  "metadata": {
    "colab": {
      "provenance": [],
      "include_colab_link": true
    },
    "kernelspec": {
      "name": "python3",
      "display_name": "Python 3"
    },
    "language_info": {
      "name": "python"
    }
  },
  "cells": [
    {
      "cell_type": "markdown",
      "metadata": {
        "id": "view-in-github",
        "colab_type": "text"
      },
      "source": [
        "<a href=\"https://colab.research.google.com/github/ErikFantomex/TDA/blob/main/TDASeriesdetiempo.ipynb\" target=\"_parent\"><img src=\"https://colab.research.google.com/assets/colab-badge.svg\" alt=\"Open In Colab\"/></a>"
      ]
    },
    {
      "cell_type": "markdown",
      "source": [
        "# Estudio de series de tiempo \n",
        "Datos : BTC/USD(2022/01/01-2022/10/19)"
      ],
      "metadata": {
        "id": "wAUeUy7DGbSQ"
      }
    },
    {
      "cell_type": "markdown",
      "source": [
        "· python -m ipykernel install --user --name nombre --display-name nombre"
      ],
      "metadata": {
        "id": "eMXqLmC9YQLl"
      }
    },
    {
      "cell_type": "code",
      "source": [
        "from google.colab import drive\n",
        "drive.mount('/content/drive')"
      ],
      "metadata": {
        "id": "_J8Fq6ln8T9J",
        "colab": {
          "base_uri": "https://localhost:8080/"
        },
        "outputId": "42a7abf5-6770-4775-9b9b-13a94d861032"
      },
      "execution_count": null,
      "outputs": [
        {
          "output_type": "stream",
          "name": "stdout",
          "text": [
            "Mounted at /content/drive\n"
          ]
        }
      ]
    },
    {
      "cell_type": "markdown",
      "source": [
        "# Funcion paralelizada"
      ],
      "metadata": {
        "id": "dd52qoWZ10z8"
      }
    },
    {
      "cell_type": "code",
      "source": [
        "import pandas as pd\n",
        "import numpy as np\n",
        "from gtda.time_series import TakensEmbedding, SlidingWindow\n",
        "from gtda.homology import VietorisRipsPersistence\n",
        "import matplotlib.pyplot as plt\n",
        " from gtda.diagrams import PersistenceEntropy,PersistenceLandscape,BettiCurve\n",
        "from gudhi.wasserstein import wasserstein_distance\n",
        "import gudhi\n",
        "import ot\n",
        "import multiprocessing\n",
        "from functools import partial\n"
      ],
      "metadata": {
        "id": "4CRKlJjhJeZr"
      },
      "execution_count": null,
      "outputs": []
    },
    {
      "cell_type": "code",
      "source": [
        "def encontrar_minimo_global(distancias):\n",
        "    minimo = min(distancias)\n",
        "    indice_minimo = distancias.index(minimo)\n",
        "    return minimo, indice_minimo\n",
        "\n",
        "# Ejemplo de uso\n",
        "distancias = [5, 2, 8, 1, 10, 4]\n",
        "minimo_global, indice_minimo = encontrar_minimo_global(distancias)\n",
        "print(\"Valor mínimo:\", minimo_global)\n",
        "print(\"Índice del mínimo:\", indice_minimo)\n"
      ],
      "metadata": {
        "id": "xVscQ9bPBVnZ"
      },
      "execution_count": null,
      "outputs": []
    },
    {
      "cell_type": "code",
      "source": [
        "def calcular_distancia_wasserstein(a, c, d, diagrams, i):\n",
        "    return wasserstein_distance1(diagrams[a], diagrams[i])\n",
        "\n",
        "def Guarda_distancias(a, c, d):\n",
        "    \"\"\"\n",
        "    Guarda las distancias de wassertein en una lista \n",
        "    recibe a que es la coleccion 1 \n",
        "    Parametros: (a,b) -> rango del conjunto [1] , (c,d)-> rango del conjunto [2] \n",
        "  \n",
        "    Retorna:\n",
        "    Una lista con las distancias de wassertein \n",
        "    \"\"\"\n",
        "    distancias = []\n",
        "    # Crear un grupo de procesos\n",
        "    pool = multiprocessing.Pool()\n",
        "    # Crear una función parcial con los parámetros a, c y d fijados\n",
        "    calcular_distancia_partial = partial(calcular_distancia_wasserstein, a, c, d, diagrams)\n",
        "    # Calcular las distancias de forma paralela\n",
        "    distancias = pool.map(calcular_distancia_partial, range(c, d))\n",
        "    # Cerrar el grupo de procesos\n",
        "    pool.close()\n",
        "    # Esperar a que todos los procesos terminen\n",
        "    pool.join()\n",
        "    return distancias\n"
      ],
      "metadata": {
        "id": "9fai37Vr2IvZ"
      },
      "execution_count": null,
      "outputs": []
    },
    {
      "cell_type": "code",
      "source": [
        "import multiprocessing\n",
        "from functools import partial\n",
        "\n",
        "def calcular_distancia_wasserstein(a, c, d, diagrams, i):\n",
        "    return wasserstein_distance1(diagrams[a], diagrams[i])\n",
        "\n",
        "def Guarda_distancias(a, c, d):\n",
        "    \"\"\"\n",
        "    Guarda las distancias de wassertein en una lista \n",
        "    recibe a que es la coleccion 1 \n",
        "    Parametros: (a,b) -> rango del conjunto [1] , (c,d)-> rango del conjunto [2] \n",
        "  \n",
        "    Retorna:\n",
        "    Una lista con las distancias de wassertein \n",
        "    \"\"\"\n",
        "    distancias = []\n",
        "    # Crear un grupo de procesos\n",
        "    pool = multiprocessing.Pool()\n",
        "    # Crear una función parcial con los parámetros a, c y d fijados\n",
        "    calcular_distancia_partial = partial(calcular_distancia_wasserstein, a, c, d, diagrams)\n",
        "    # Calcular las distancias de forma paralela\n",
        "    distancias = pool.map(calcular_distancia_partial, range(c, d))\n",
        "    # Cerrar el grupo de procesos\n",
        "    pool.close()\n",
        "    # Esperar a que todos los procesos terminen\n",
        "    pool.join()\n",
        "    return distancias\n"
      ],
      "metadata": {
        "id": "bNPG-MAM11C0"
      },
      "execution_count": null,
      "outputs": []
    },
    {
      "cell_type": "code",
      "source": [
        "#Funcion para obtener distancias y guardarlas en una lista \n",
        "def Guarda_distancias(a,c,d):\n",
        "  \"\"\"\n",
        "  Guarda las distancias de wassertein en una lista \n",
        "  recibe a que es la coleccion 1 \n",
        "  Parametros: (a,b) -> rango del conjunto [1] , (c,d)-> rango del conjunto [2] \n",
        "  \n",
        "  Retorna:\n",
        "  Una lista con las distancias de wassertein \n",
        "  \"\"\"\n",
        "  #valor que puede cambiar\n",
        "  a = 1\n",
        "  distancias = []\n",
        "  #for i in np.arange(a):\n",
        "  for j in np.arange(c,d):\n",
        "      distancias.append(wasserstein_distance1(diagrams[a],diagrams[j]))\n",
        "  return distancias"
      ],
      "metadata": {
        "id": "Xr8kgpoy1NKD"
      },
      "execution_count": null,
      "outputs": []
    },
    {
      "cell_type": "code",
      "source": [
        "def Generador_de_graficas(lista_de_distancias):\n",
        "  # Distancias \n",
        "  plt.plot(lista_de_distancias)\n",
        "  plt.xlabel('Indidce de distancias')\n",
        "  plt.ylabel('Distancias de wassertein')\n",
        "  plt.title('Distancias')\n",
        "  plt.savefig('grafica.png', dpi=600)\n",
        "  return plt.show()"
      ],
      "metadata": {
        "id": "FQxwe8niNjEL"
      },
      "execution_count": null,
      "outputs": []
    },
    {
      "cell_type": "code",
      "source": [
        "def wasserstein_distance1(diag1, diag2):\n",
        "    \"\"\"\n",
        "    Calcula la distancia de Wasserstein entre dos diagramas de persistencia.\n",
        "    Parámetros:\n",
        "    diag1, diag2: numpy arrays de dimension (n, 2) donde n es el número de puntos en los diagramas.\n",
        "                  Cada fila representa un punto en el diagrama de persistencia con la primera columna\n",
        "                  representando la coordenada de nacimiento y la segunda columna la coordenada de muerte.\n",
        "    Retorna:\n",
        "    La distancia de Wasserstein entre los dos diagramas de persistencia.\n",
        "    \"\"\"\n",
        "    # Crear el objeto Gudhi para calcular la distancia de Wasserstein.\n",
        "    # Calcular la distancia de Wasserstein.\n",
        "    dist = gudhi.wasserstein.wasserstein_distance(diag1, diag2)\n",
        "    return dist"
      ],
      "metadata": {
        "id": "qNL2l7IE4Eh2"
      },
      "execution_count": null,
      "outputs": []
    },
    {
      "cell_type": "code",
      "source": [
        "def Generador_de_graficas2(lista_de_distancias):\n",
        "  # Distancias \n",
        "  #plt.plot()\n",
        "  x = range(len(lista_de_distancias))\n",
        "  plt.scatter(x,lista_de_distancias)\n",
        "  plt.xlabel('Indidce de distancias')\n",
        "  plt.ylabel('Distancias de wassertein')\n",
        "  plt.title('Distancias')\n",
        "  plt.savefig('grafica2.png', dpi=1000)\n",
        "  return plt.show()"
      ],
      "metadata": {
        "id": "kKW0gj0fSW1P"
      },
      "execution_count": null,
      "outputs": []
    },
    {
      "cell_type": "markdown",
      "source": [
        "# Analisis topologico "
      ],
      "metadata": {
        "id": "Cpjjk4IH7hAc"
      }
    },
    {
      "cell_type": "markdown",
      "source": [
        "El análisis topológico se refiere al estudio de las propiedades geométricas y espaciales de los objetos y sus relaciones, sin tener en cuenta su tamaño, forma o posición exacta. En otras palabras, el análisis topológico se enfoca en la estructura de los datos más que en los valores de los datos.\n",
        "\n",
        "En el análisis topológico, los datos se representan como conjuntos de puntos en el espacio, que se llaman nubes de puntos. La topología se utiliza para analizar y clasificar estas nubes de puntos en función de sus características y estructuras. Una técnica común utilizada en el análisis topológico es el complejo de Vietoris-Rips, que construye una estructura jerárquica de conjuntos de puntos a partir de las distancias entre ellos.\n",
        "\n",
        "El análisis topológico se utiliza en diversas áreas, como la biología, la química, la física, la informática y la ingeniería. Por ejemplo, en la biología, el análisis topológico se utiliza para estudiar las relaciones entre las moléculas y las células, mientras que en la informática, se utiliza para la segmentación de imágenes y la clasificación de datos.\n"
      ],
      "metadata": {
        "id": "xaDGZMn52NGB"
      }
    },
    {
      "cell_type": "markdown",
      "source": [
        "#Filtracion de Viertoris rips\n",
        "\n"
      ],
      "metadata": {
        "id": "wKDu3gXD_0GV"
      }
    },
    {
      "cell_type": "markdown",
      "source": [
        "El encaje de Takens y el complejo de Vietoris-Rips son dos técnicas comunes utilizadas en el análisis de datos y la geometría computacional. Ambos se relacionan con las nubes de puntos, que son conjuntos de puntos que se encuentran en un espacio n-dimensional.\n",
        "\n",
        "El encaje de Takens es una técnica que permite representar un sistema dinámico complejo en un espacio de menor dimensión. Se utiliza para analizar datos que se derivan de un proceso dinámico y proporciona una forma de visualizar la estructura subyacente del proceso. El encaje de Takens se basa en la teoría del caos y utiliza la geometría de los datos para crear un espacio de menor dimensión.\n",
        "\n",
        "El complejo de Vietoris-Rips es una técnica utilizada en la topología algebraica para analizar datos de nubes de puntos. El complejo de Vietoris-Rips se construye conectando puntos en la nube que se encuentran a una distancia menor o igual a un valor de umbral predefinido. El complejo resultante es una estructura algebraica que se puede analizar utilizando técnicas topológicas para extraer información sobre la forma y la estructura de la nube de puntos.\n",
        "\n",
        "En conjunto, el encaje de Takens y el complejo de Vietoris-Rips pueden proporcionar información valiosa sobre la estructura y la topología de las nubes de puntos. Al representar los datos en un espacio de menor dimensión con el encaje de Takens, se puede simplificar la complejidad del conjunto de datos, lo que puede hacer más fácil su análisis. Luego, el complejo de Vietoris-Rips se utiliza para analizar la estructura de los datos y extraer información topológica que puede ser útil en la clasificación, el reconocimiento de patrones y otras tareas de análisis de datos."
      ],
      "metadata": {
        "id": "rqtMG5qCzgEv"
      }
    },
    {
      "cell_type": "code",
      "source": [
        "#Lectura de datos\n",
        "df1 = pd.read_csv('/content/drive/MyDrive/datasets/BTCUSDT1m.csv')\n",
        "df1.head()\n",
        "df1['Close']\n",
        "df1.describe\n",
        "df1['Close timestamp']\n",
        "close_ts = df1['Close'].to_numpy()\n",
        "close_ts.shape\n",
        "Time_ts = df1['Close time'].to_numpy()\n",
        "df1.shape"
      ],
      "metadata": {
        "id": "rzMyJLT_GjnW",
        "colab": {
          "base_uri": "https://localhost:8080/"
        },
        "outputId": "835abb5c-d5d4-4c49-975a-990fae82c1a4"
      },
      "execution_count": null,
      "outputs": [
        {
          "output_type": "execute_result",
          "data": {
            "text/plain": [
              "(419041, 14)"
            ]
          },
          "metadata": {},
          "execution_count": 19
        }
      ]
    },
    {
      "cell_type": "code",
      "source": [
        "#Analisis topologico\n",
        "#stride = 30 , ( d-c = 2500 , 10,000 ) window = 240 minutos , \n",
        "windows = SlidingWindow(size = 240,stride = 30)\n",
        "sample = windows.fit_transform(close_ts)\n",
        "sample.shape\n",
        "#Encaje de takens\n",
        "TE = TakensEmbedding(time_delay=1,dimension=2)\n",
        "X_te = TE.fit_transform(sample)\n",
        "X_te\n",
        "#Procedimiento normal\n",
        "VR = VietorisRipsPersistence(homology_dimensions=[0, 1],reduced_homology=False)  # Parameter explained in the text\n",
        "diagrams = VR.fit_transform(X_te)\n",
        "diagrams"
      ],
      "metadata": {
        "id": "6YGWZG1qyDKI",
        "colab": {
          "base_uri": "https://localhost:8080/"
        },
        "outputId": "5b7d44c7-8ab8-4b66-9e54-7dbd3b8419c7"
      },
      "execution_count": null,
      "outputs": [
        {
          "output_type": "execute_result",
          "data": {
            "text/plain": [
              "array([[[0.        , 0.19312742, 0.        ],\n",
              "        [0.        , 0.54083228, 0.        ],\n",
              "        [0.        , 0.96166515, 0.        ],\n",
              "        ...,\n",
              "        [0.2220362 , 0.2220362 , 1.        ],\n",
              "        [0.2220362 , 0.2220362 , 1.        ],\n",
              "        [0.2220362 , 0.2220362 , 1.        ]],\n",
              "\n",
              "       [[0.        , 0.4801034 , 0.        ],\n",
              "        [0.        , 0.57723433, 0.        ],\n",
              "        [0.        , 0.87475747, 0.        ],\n",
              "        ...,\n",
              "        [0.2220362 , 0.2220362 , 1.        ],\n",
              "        [0.2220362 , 0.2220362 , 1.        ],\n",
              "        [0.2220362 , 0.2220362 , 1.        ]],\n",
              "\n",
              "       [[0.        , 0.30594316, 0.        ],\n",
              "        [0.        , 0.51244509, 0.        ],\n",
              "        [0.        , 0.5234521 , 0.        ],\n",
              "        ...,\n",
              "        [0.2220362 , 0.2220362 , 1.        ],\n",
              "        [0.2220362 , 0.2220362 , 1.        ],\n",
              "        [0.2220362 , 0.2220362 , 1.        ]],\n",
              "\n",
              "       ...,\n",
              "\n",
              "       [[0.        , 0.06324515, 0.        ],\n",
              "        [0.        , 0.11180361, 0.        ],\n",
              "        [0.        , 0.18027797, 0.        ],\n",
              "        ...,\n",
              "        [0.2220362 , 0.2220362 , 1.        ],\n",
              "        [0.2220362 , 0.2220362 , 1.        ],\n",
              "        [0.2220362 , 0.2220362 , 1.        ]],\n",
              "\n",
              "       [[0.        , 0.05831027, 0.        ],\n",
              "        [0.        , 0.12206592, 0.        ],\n",
              "        [0.        , 0.26076823, 0.        ],\n",
              "        ...,\n",
              "        [0.2220362 , 0.2220362 , 1.        ],\n",
              "        [0.2220362 , 0.2220362 , 1.        ],\n",
              "        [0.2220362 , 0.2220362 , 1.        ]],\n",
              "\n",
              "       [[0.        , 0.23769745, 0.        ],\n",
              "        [0.        , 0.24083182, 0.        ],\n",
              "        [0.        , 0.25495085, 0.        ],\n",
              "        ...,\n",
              "        [0.2220362 , 0.2220362 , 1.        ],\n",
              "        [0.2220362 , 0.2220362 , 1.        ],\n",
              "        [0.2220362 , 0.2220362 , 1.        ]]])"
            ]
          },
          "metadata": {},
          "execution_count": 20
        }
      ]
    },
    {
      "cell_type": "code",
      "source": [
        "lista_de_distancias = Guarda_distancias(4,30,254)\n",
        "Generador_de_graficas(lista_de_distancias)\n",
        "Generador_de_graficas2(lista_de_distancias)"
      ],
      "metadata": {
        "id": "uic7R-lgD2Ol",
        "colab": {
          "base_uri": "https://localhost:8080/",
          "height": 573
        },
        "outputId": "b46d2807-c073-435e-a5c8-5c05239dfae9"
      },
      "execution_count": null,
      "outputs": [
        {
          "output_type": "display_data",
          "data": {
            "text/plain": [
              "<Figure size 432x288 with 1 Axes>"
            ],
            "image/png": "[encoded data removed]"
          },
          "metadata": {
            "needs_background": "light"
          }
        },
        {
          "output_type": "display_data",
          "data": {
            "text/plain": [
              "<Figure size 432x288 with 1 Axes>"
            ],
            "image/png": "[encoded data removed]"
          },
          "metadata": {
            "needs_background": "light"
          }
        }
      ]
    },
    {
      "cell_type": "markdown",
      "source": [
        "# Siguientes pasos usar ocotillo y probar con los nuevos parametros \n"
      ],
      "metadata": {
        "id": "fJEDWYCOiOJ8"
      }
    },
    {
      "cell_type": "markdown",
      "source": [
        "* stride = 30 , ( d-c = 2500 , 10,000 )\n",
        "window = 240 minutos , Teorema de estabilidad en el ocotillo, aunque seria bueno primero en mi maquina \n",
        "\n",
        "* "
      ],
      "metadata": {
        "id": "AaNpDfdsgxP5"
      }
    },
    {
      "cell_type": "code",
      "source": [],
      "metadata": {
        "id": "0hw7iouXlbPW"
      },
      "execution_count": null,
      "outputs": []
    },
    {
      "cell_type": "markdown",
      "source": [
        "# Haciendo la prediccion "
      ],
      "metadata": {
        "id": "jvpSr7KE84dK"
      }
    },
    {
      "cell_type": "code",
      "source": [],
      "metadata": {
        "id": "E_0k9y3uKmg-"
      },
      "execution_count": null,
      "outputs": []
    }
  ]
}