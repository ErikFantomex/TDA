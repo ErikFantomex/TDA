{
 "cells": [
  {
   "cell_type": "code",
   "execution_count": 1,
   "id": "92090fb2",
   "metadata": {},
   "outputs": [],
   "source": [
    "import pandas as pd\n",
    "import numpy as np\n",
    "import gtda\n",
    "from gtda.time_series import TakensEmbedding, SlidingWindow\n",
    "from gtda.homology import VietorisRipsPersistence\n",
    "import matplotlib.pyplot as plt\n",
    "from gtda.diagrams import PersistenceEntropy,PersistenceLandscape,BettiCurve\n",
    "from gudhi.wasserstein import wasserstein_distance\n",
    "import gudhi\n",
    "import ot\n",
    "import multiprocessing\n",
    "from functools import partial"
   ]
  },
  {
   "cell_type": "code",
   "execution_count": 12,
   "id": "256f449d",
   "metadata": {},
   "outputs": [],
   "source": [
    "def encontrar_minimo_global(distancias):\n",
    "    minimo = min(distancias)\n",
    "    indice_minimo = distancias.index(minimo)\n",
    "    return minimo, indice_minimo\n",
    "\n",
    "def wasserstein_distance1(diag1, diag2):\n",
    "    \"\"\"\n",
    "    Calcula la distancia de Wasserstein entre dos diagramas de persistencia.\n",
    "    Parámetros:\n",
    "    diag1, diag2: numpy arrays de dimension (n, 2) donde n es el número de puntos en los diagramas.\n",
    "                  Cada fila representa un punto en el diagrama de persistencia con la primera columna\n",
    "                  representando la coordenada de nacimiento y la segunda columna la coordenada de muerte.\n",
    "    Retorna:\n",
    "    La distancia de Wasserstein entre los dos diagramas de persistencia.\n",
    "    \"\"\"\n",
    "    # Crear el objeto Gudhi para calcular la distancia de Wasserstein.\n",
    "    # Calcular la distancia de Wasserstein.\n",
    "    dist = gudhi.wasserstein.wasserstein_distance(diag1, diag2)\n",
    "    return dist\n",
    "#Funcion para guardar la distancia de wassertein\n",
    "\n",
    "def calcular_distancia_wasserstein(a, c, d, diagrams, i):\n",
    "    return wasserstein_distance1(diagrams[a], diagrams[i])\n",
    "\n",
    "def Guarda_distancias(a, c, d):\n",
    "    \"\"\"\n",
    "    Guarda las distancias de wassertein en una lista \n",
    "    recibe a que es la coleccion 1 \n",
    "    Parametros: (a,b) -> rango del conjunto [1] , (c,d)-> rango del conjunto [2] \n",
    "  \n",
    "    Retorna:\n",
    "    Una lista con las distancias de wassertein \n",
    "    \"\"\"\n",
    "    distancias = []\n",
    "    # Crear un grupo de procesos\n",
    "    pool = multiprocessing.Pool()\n",
    "    # Crear una función parcial con los parámetros a, c y d fijados\n",
    "    calcular_distancia_partial = partial(calcular_distancia_wasserstein, a, c, d, diagrams)\n",
    "    # Calcular las distancias de forma paralela\n",
    "    distancias = pool.map(calcular_distancia_partial, range(c, d))\n",
    "    # Cerrar el grupo de procesos\n",
    "    pool.close()\n",
    "    # Esperar a que todos los procesos terminen\n",
    "    pool.join()\n",
    "    return distancias\n",
    "\n",
    "\n",
    "\n",
    "def Generador_de_graficas(lista_de_distancias, nombre_imagen):\n",
    "    # Plot the distances\n",
    "    plt.plot(lista_de_distancias)\n",
    "    plt.xlabel('Indice de distancias')\n",
    "    plt.ylabel('Distancias de wassertein')\n",
    "    plt.title('Distancias')\n",
    "    plt.savefig(nombre_imagen, dpi=600)  # Save the graph with the provided name\n",
    "    return plt.show()  # Display the graph\n"
   ]
  },
  {
   "cell_type": "code",
   "execution_count": 3,
   "id": "7e605b57",
   "metadata": {},
   "outputs": [],
   "source": [
    "#Lectura de datos\n",
    "df1 = pd.read_csv('BTCUSDT1m.csv')\n",
    "df1.head()\n",
    "df1['Close']\n",
    "df1.describe\n",
    "df1['Close timestamp']\n",
    "close_ts = df1['Close'].to_numpy()\n",
    "close_ts.shape\n",
    "Time_ts = df1['Close time'].to_numpy()"
   ]
  },
  {
   "cell_type": "code",
   "execution_count": 4,
   "id": "785271a0",
   "metadata": {},
   "outputs": [],
   "source": [
    "\n",
    "#Analisis topologico\n",
    "windows = SlidingWindow(size = 240,stride = 30)\n",
    "sample =windows.fit_transform(close_ts)\n",
    "sample.shape\n",
    "#Encaje de takens\n",
    "TE = TakensEmbedding(time_delay=1 ,dimension=3)\n",
    "X_te = TE.fit_transform(sample)\n",
    "X_te\n",
    "#Vietoris Rips\n",
    "VR = VietorisRipsPersistence(homology_dimensions=[0, 1,2],reduced_homology=False,n_jobs = -1)  # Parameter explained in the text\n",
    "diagrams = VR.fit_transform(X_te)\n"
   ]
  },
  {
   "cell_type": "code",
   "execution_count": 13,
   "id": "9d448f47",
   "metadata": {},
   "outputs": [
    {
     "data": {
      "image/png": "[encoded data removed]",
      "text/plain": [
       "<Figure size 432x288 with 1 Axes>"
      ]
     },
     "metadata": {
      "needs_background": "light"
     },
     "output_type": "display_data"
    },
    {
     "data": {
      "text/plain": [
       "(266.9949618577957, 3414)"
      ]
     },
     "execution_count": 13,
     "metadata": {},
     "output_type": "execute_result"
    }
   ],
   "source": [
    "#Guardamos las graficas \n",
    "lista_de_distancias = Guarda_distancias(4,50,7526)\n",
    "Generador_de_graficas(lista_de_distancias,'grafica_4-50-7526.png')\n",
    "encontrar_minimo_global(lista_de_distancias)"
   ]
  },
  {
   "cell_type": "code",
   "execution_count": 18,
   "id": "6b4157bb",
   "metadata": {},
   "outputs": [
    {
     "ename": "TypeError",
     "evalue": "Generador_de_graficas() missing 1 required positional argument: 'nombre_imagen'",
     "output_type": "error",
     "traceback": [
      "\u001b[0;31m---------------------------------------------------------------------------\u001b[0m",
      "\u001b[0;31mTypeError\u001b[0m                                 Traceback (most recent call last)",
      "\u001b[0;32m<ipython-input-18-bf5b04e4f818>\u001b[0m in \u001b[0;36m<module>\u001b[0;34m\u001b[0m\n\u001b[1;32m      1\u001b[0m \u001b[0;31m#Guardamos las graficas\u001b[0m\u001b[0;34m\u001b[0m\u001b[0;34m\u001b[0m\u001b[0;34m\u001b[0m\u001b[0m\n\u001b[1;32m      2\u001b[0m \u001b[0mlista_de_distancias\u001b[0m \u001b[0;34m=\u001b[0m \u001b[0mGuarda_distancias\u001b[0m\u001b[0;34m(\u001b[0m\u001b[0;36m4\u001b[0m\u001b[0;34m,\u001b[0m\u001b[0;36m5750\u001b[0m\u001b[0;34m,\u001b[0m\u001b[0;36m12250\u001b[0m\u001b[0;34m)\u001b[0m\u001b[0;34m\u001b[0m\u001b[0;34m\u001b[0m\u001b[0m\n\u001b[0;32m----> 3\u001b[0;31m \u001b[0mGenerador_de_graficas\u001b[0m\u001b[0;34m(\u001b[0m\u001b[0mlista_de_distancias\u001b[0m\u001b[0;34m)\u001b[0m\u001b[0;34m\u001b[0m\u001b[0;34m\u001b[0m\u001b[0m\n\u001b[0m",
      "\u001b[0;31mTypeError\u001b[0m: Generador_de_graficas() missing 1 required positional argument: 'nombre_imagen'"
     ]
    }
   ],
   "source": [
    "#Guardamos las graficas \n",
    "lista_de_distancias = Guarda_distancias(4,5750,12250)\n",
    "Generador_de_graficas(lista_de_distancias)\n"
   ]
  },
  {
   "cell_type": "code",
   "execution_count": 16,
   "id": "3da4003e",
   "metadata": {},
   "outputs": [
    {
     "data": {
      "text/plain": [
       "(13961, 354, 3)"
      ]
     },
     "execution_count": 16,
     "metadata": {},
     "output_type": "execute_result"
    }
   ],
   "source": [
    "diagrams.shape"
   ]
  },
  {
   "cell_type": "code",
   "execution_count": null,
   "id": "5602b554",
   "metadata": {},
   "outputs": [],
   "source": []
  },
  {
   "cell_type": "code",
   "execution_count": null,
   "id": "79edfb04",
   "metadata": {},
   "outputs": [],
   "source": []
  },
  {
   "cell_type": "code",
   "execution_count": null,
   "id": "b18a3943",
   "metadata": {},
   "outputs": [],
   "source": []
  }
 ],
 "metadata": {
  "kernelspec": {
   "display_name": "tda",
   "language": "python",
   "name": "tda"
  },
  "language_info": {
   "codemirror_mode": {
    "name": "ipython",
    "version": 3
   },
   "file_extension": ".py",
   "mimetype": "text/x-python",
   "name": "python",
   "nbconvert_exporter": "python",
   "pygments_lexer": "ipython3",
   "version": "3.6.13"
  }
 },
 "nbformat": 4,
 "nbformat_minor": 5
}
